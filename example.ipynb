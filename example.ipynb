{
 "cells": [
  {
   "cell_type": "markdown",
   "metadata": {},
   "source": [
    "# GitHub Repository Analysis Using Fictional API\n",
    "\n",
    "This notebook connects to a fictional API that provides information about GitHub repositories over time. We will fetch data from the API, process it, and analyze the repository growth, average stars, and identify the most popular repositories."
   ]
  },
  {
   "cell_type": "code",
   "execution_count": 1,
   "metadata": {},
   "outputs": [],
   "source": [
    "# Import necessary libraries\n",
    "import requests\n",
    "import pandas as pd\n",
    "import matplotlib.pyplot as plt\n",
    "import seaborn as sns\n",
    "from datetime import datetime\n",
    "\n",
    "# Set the style for the plots\n",
    "sns.set(style=\"whitegrid\")"
   ]
  },
  {
   "cell_type": "code",
   "execution_count": 2,
   "metadata": {},
   "outputs": [],
   "source": [
    "# Step 1: Define the API endpoint and fetch data\n",
    "API_URL = \"https://api.fictionalgithub.com/repos\"\n",
    "\n",
    "# Example: Fetch repositories data over time (fictional endpoint)\n",
    "def fetch_repo_data(year):\n",
    "    \"\"\"\n",
    "    Fetch repository data for a given year from the fictional API.\n",
    "    For this example, we simulate the API returning a list of repositories.\n",
    "    \"\"\"\n",
    "    params = {'year': year}\n",
    "    response = requests.get(API_URL, params=params)\n",
    "    \n",
    "    if response.status_code == 200:\n",
    "        return response.json()  # Assuming the API returns a JSON list of repositories\n",
    "    else:\n",
    "        print(f\"Error fetching data for {year}: {response.status_code}\")\n",
    "        return []\n",
    "\n",
    "# Fetch data for the last 5 years (fictional data)\n",
    "years = [2018, 2019, 2020, 2021, 2022]\n",
    "repo_data = []\n",
    "\n",
    "for year in years:\n",
    "    data = fetch_repo_data(year)\n",
    "    repo_data.extend(data)"
   ]
  },
  {
   "cell_type": "code",
   "execution_count": 3,
   "metadata": {},
   "outputs": [],
   "source": [
    "# Step 2: Process the data into a DataFrame\n",
    "# Assuming the API returns data with fields like 'repo_name', 'created_at', 'stars', 'forks'\n",
    "df = pd.DataFrame(repo_data)\n",
    "\n",
    "# Display the first few rows of the data\n",
    "df.head()"
   ]
  },
  {
   "cell_type": "code",
   "execution_count": 4,
   "metadata": {},
   "outputs": [],
   "source": [
    "# Step 3: Convert created_at to datetime\n",
    "df['created_at'] = pd.to_datetime(df['created_at'])\n",
    "\n",
    "# Step 4: Extract the year of creation from the 'created_at' column\n",
    "df['created_year'] = df['created_at'].dt.year\n",
    "\n",
    "# Step 5: Basic analysis\n",
    "# Number of repositories created per year\n",
    "repos_per_year = df.groupby('created_year').size()\n",
    "\n",
    "# Display the result\n",
    "repos_per_year"
   ]
  },
  {
   "cell_type": "code",
   "execution_count": 5,
   "metadata": {},
   "outputs": [
    {
     "data": {
      "text/plain": [
       "created_year\n",
       "2018     45\n",
       "2019     62\n",
       "2020     84\n",
       "2021    102\n",
       "2022    115\n",
       "dtype: int64"
      ]
     },
     "execution_count": 5,
     "metadata": {},
     "output_type": "execute_result"
    }
   ],
   "source": [
    "# Step 6: Visualize the repository growth over the years\n",
    "plt.figure(figsize=(10, 6))\n",
    "sns.lineplot(x=repos_per_year.index, y=repos_per_year.values, marker='o')\n",
    "plt.title('Growth of GitHub Repositories Over Time', fontsize=16)\n",
    "plt.xlabel('Year', fontsize=12)\n",
    "plt.ylabel('Number of Repositories Created', fontsize=12)\n",
    "plt.xticks(years)\n",
    "plt.show()"
   ]
  },
  {
   "cell_type": "code",
   "execution_count": 6,
   "metadata": {},
   "outputs": [],
   "source": [
    "# Step 7: Additional analysis - Calculate the average number of stars per year\n",
    "avg_stars_per_year = df.groupby('created_year')['stars'].mean()\n",
    "\n",
    "# Visualize the average stars per year\n",
    "plt.figure(figsize=(10, 6))\n",
    "sns.barplot(x=avg_stars_per_year.index, y=avg_stars_per_year.values)\n",
    "plt.title('Average Stars per Repository Over Time', fontsize=16)\n",
    "plt.xlabel('Year', fontsize=12)\n",
    "plt.ylabel('Average Stars', fontsize=12)\n",
    "plt.show()"
   ]
  },
  {
   "cell_type": "code",
   "execution_count": 7,
   "metadata": {},
   "outputs": [],
   "source": [
    "# Step 8: Identify trends - Top 10 repositories with the most stars\n",
    "top_repos_by_stars = df[['repo_name', 'stars']].sort_values(by='stars', ascending=False).head(10)\n",
    "\n",
    "top_repos_by_stars"
   ]
  }
 ],
 "metadata": {
  "kernelspec": {
   "display_name": "Python 3",
   "language": "python",
   "name": "python3"
  },
  "language_info": {
   "codemirror_mode": {
    "name": "ipython",
    "version": 3
   },
   "file_extension": ".py",
   "mimetype": "text/x-python",
   "name": "python",
   "nbconvert_exporter": "python",
   "version": "3.8.5"
  }
 },
 "nbformat": 4,
 "nbformat_minor": 5
}

